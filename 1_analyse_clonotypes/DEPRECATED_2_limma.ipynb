{
 "cells": [
  {
   "cell_type": "code",
   "execution_count": 37,
   "metadata": {
    "collapsed": false
   },
   "outputs": [],
   "source": [
    "# source(\"https://bioconductor.org/biocLite.R\")\n",
    "# biocLite(\"limma\")\n",
    "# biocLite(\"edgeR\")\n",
    "\n",
    "library(limma)\n",
    "library(reshape2)\n",
    "library(ggplot2)\n",
    "library(dtplyr)\n",
    "library(data.table)\n",
    "library(edgeR)"
   ]
  },
  {
   "cell_type": "code",
   "execution_count": 112,
   "metadata": {
    "collapsed": false
   },
   "outputs": [],
   "source": [
    "# Read in sample matrix\n",
    "sampleInfo <- fread(\"../team115_lustre/1_analyse_clonotypes/sample_info.csv\")\n",
    "sampleInfo <- sampleInfo[order(sampleInfo$\"Tag Index\")]\n",
    "sampleInfo <- sampleInfo[sampleInfo$\"Tag Index\" != \"20\", ]\n",
    "\n",
    "# Read in counts matrix\n",
    "counts.clonotype <- fread(\"../team115_lustre/1_analyse_clonotypes/count_clonotype.csv\", header = T)\n",
    "rownames(counts.clonotype) <- counts.clonotype$clonotype\n",
    "counts.clonotype$clonotype <- NULL\n",
    "colnames(counts.clonotype) <- paste(\"LEA_S\", colnames(counts.clonotype), sep=\"\")\n",
    "\n",
    "dge.clonotype <- DGEList(counts = counts.clonotype)"
   ]
  },
  {
   "cell_type": "code",
   "execution_count": 27,
   "metadata": {
    "collapsed": false
   },
   "outputs": [],
   "source": [
    "?fread"
   ]
  },
  {
   "cell_type": "code",
   "execution_count": 114,
   "metadata": {
    "collapsed": false
   },
   "outputs": [
    {
     "data": {
      "image/png": "[encoded data removed]",
      "text/plain": [
       "plot without title"
      ]
     },
     "metadata": {},
     "output_type": "display_data"
    }
   ],
   "source": [
    "plot(dge.clonotype$samples$lib.size, sampleInfo$\"Reads, count\")\n",
    "# print(sampleInfo$\"Reads, count\")\n",
    "# print(dge.clonotype$samples$lib.size)\n",
    "# print(dge.clonotype$samples)\n",
    "# print(sampleInfo)\n",
    "\n"
   ]
  },
  {
   "cell_type": "code",
   "execution_count": 82,
   "metadata": {
    "collapsed": false
   },
   "outputs": [
    {
     "name": "stdout",
     "output_type": "stream",
     "text": [
      "Classes ‘data.table’ and 'data.frame':\t23 obs. of  12 variables:\n",
      " $ Tag Index       : int  1 2 3 4 5 6 7 8 9 10 ...\n",
      " $ Tag             : chr  \"TCTACGAC\" \"TGACAGAC\" \"TAGAACAC\" \"TCATCCTA\" ...\n",
      " $ Reads, count    : int  160933 228123 186590 124422 158508 134387 659407 187748 309159 371535 ...\n",
      " $ Reads, %        : num  0.87 1.23 1.01 0.67 0.86 0.73 3.57 1.02 1.67 2.01 ...\n",
      " $ Irods           : chr  \"20154_1#1\" \"20154_1#2\" \"20154_1#3\" \"20154_1#4\" ...\n",
      " $ Sample_name     : chr  \"LEA_S1\" \"LEA_S2\" \"LEA_S3\" \"LEA_S4\" ...\n",
      " $ Sample_info     : chr  \"1.      1017 day 0 MBC\" \"2.      1017 day 0 plasma cells\" \"3.      1017 day 140 MBC\" \"4.      1017 day 140 plasma cells\" ...\n",
      " $ VDJtools_Patient: chr  \"P1\" \"P1\" \"P1\" \"P1\" ...\n",
      " $ patient_code    : int  1017 1017 1017 1017 2207 2207 2207 2207 1019 1019 ...\n",
      " $ day             : int  0 0 140 140 63 63 140 140 140 140 ...\n",
      " $ cell_type       : chr  \"MBC\" \"plasma\" \"MBC\" \"plasma\" ...\n",
      " $ norm_factor     : num  2.24 1.58 1.93 2.9 2.27 ...\n",
      " - attr(*, \".internal.selfref\")=<externalptr> \n"
     ]
    }
   ],
   "source": [
    "str(sampleInfo)"
   ]
  },
  {
   "cell_type": "code",
   "execution_count": 67,
   "metadata": {
    "collapsed": true
   },
   "outputs": [],
   "source": [
    "?order"
   ]
  },
  {
   "cell_type": "code",
   "execution_count": null,
   "metadata": {
    "collapsed": true
   },
   "outputs": [],
   "source": []
  }
 ],
 "metadata": {
  "anaconda-cloud": {},
  "kernelspec": {
   "display_name": "R",
   "language": "R",
   "name": "ir"
  },
  "language_info": {
   "codemirror_mode": "r",
   "file_extension": ".r",
   "mimetype": "text/x-r-source",
   "name": "R",
   "pygments_lexer": "r",
   "version": "3.3.0"
  }
 },
 "nbformat": 4,
 "nbformat_minor": 2
}
