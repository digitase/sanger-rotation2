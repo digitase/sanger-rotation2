{
 "cells": [
  {
   "cell_type": "code",
   "execution_count": 4,
   "metadata": {
    "collapsed": false
   },
   "outputs": [],
   "source": [
    "import pandas as pd\n",
    "import numpy as np\n",
    "import matplotlib.pyplot as plt\n",
    "import glob\n",
    "import re"
   ]
  },
  {
   "cell_type": "code",
   "execution_count": 24,
   "metadata": {
    "collapsed": false
   },
   "outputs": [],
   "source": [
    "# Get list of sample clonot\n",
    "summary_files = [\n",
    "    f for f in \n",
    "    glob.iglob(\n",
    "        \"/nfs/users/nfs_b/bb9/workspace/rotation2/team115_lustre/data/existing_bcr_data/MalariaSamplesBen/**/*_Summary.txt\", \n",
    "        recursive=True, \n",
    "    )\n",
    "]\n",
    "\n",
    "# Extract sample day and number from filename\n",
    "p = re.compile(r'Day(\\d+)/LEA_S(\\d+)_Summary.txt')\n",
    "days = [p.search(f).group(1) for f in summary_files]\n",
    "sample_nums = [p.search(f).group(2) for f in summary_files]\n",
    "\n",
    "# Read in all summary files\n",
    "summary_dt = pd.concat(\n",
    "    (pd.read_table(f, header=0, usecols=list(range(0,30))) for f in summary_files),\n",
    "    keys=zip(days, sample_nums),\n",
    "    names=[\"day\", \"sample_num\"]\n",
    ")"
   ]
  },
  {
   "cell_type": "code",
   "execution_count": 46,
   "metadata": {
    "collapsed": false
   },
   "outputs": [
    {
     "ename": "AttributeError",
     "evalue": "'DataFrame' object has no attribute 'keya'",
     "output_type": "error",
     "traceback": [
      "\u001b[0;31m---------------------------------------------------------------------------\u001b[0m",
      "\u001b[0;31mAttributeError\u001b[0m                            Traceback (most recent call last)",
      "\u001b[0;32m<ipython-input-46-075f5c153121>\u001b[0m in \u001b[0;36m<module>\u001b[0;34m()\u001b[0m\n\u001b[0;32m----> 1\u001b[0;31m \u001b[0msummary_dt\u001b[0m\u001b[0;34m.\u001b[0m\u001b[0mkeya\u001b[0m\u001b[0;34m\u001b[0m\u001b[0m\n\u001b[0m",
      "\u001b[0;32m/nfs/users/nfs_b/bb9/miniconda3/envs/py35/lib/python3.5/site-packages/pandas/core/generic.py\u001b[0m in \u001b[0;36m__getattr__\u001b[0;34m(self, name)\u001b[0m\n\u001b[1;32m   2742\u001b[0m             \u001b[0;32mif\u001b[0m \u001b[0mname\u001b[0m \u001b[0;32min\u001b[0m \u001b[0mself\u001b[0m\u001b[0;34m.\u001b[0m\u001b[0m_info_axis\u001b[0m\u001b[0;34m:\u001b[0m\u001b[0;34m\u001b[0m\u001b[0m\n\u001b[1;32m   2743\u001b[0m                 \u001b[0;32mreturn\u001b[0m \u001b[0mself\u001b[0m\u001b[0;34m[\u001b[0m\u001b[0mname\u001b[0m\u001b[0;34m]\u001b[0m\u001b[0;34m\u001b[0m\u001b[0m\n\u001b[0;32m-> 2744\u001b[0;31m             \u001b[0;32mreturn\u001b[0m \u001b[0mobject\u001b[0m\u001b[0;34m.\u001b[0m\u001b[0m__getattribute__\u001b[0m\u001b[0;34m(\u001b[0m\u001b[0mself\u001b[0m\u001b[0;34m,\u001b[0m \u001b[0mname\u001b[0m\u001b[0;34m)\u001b[0m\u001b[0;34m\u001b[0m\u001b[0m\n\u001b[0m\u001b[1;32m   2745\u001b[0m \u001b[0;34m\u001b[0m\u001b[0m\n\u001b[1;32m   2746\u001b[0m     \u001b[0;32mdef\u001b[0m \u001b[0m__setattr__\u001b[0m\u001b[0;34m(\u001b[0m\u001b[0mself\u001b[0m\u001b[0;34m,\u001b[0m \u001b[0mname\u001b[0m\u001b[0;34m,\u001b[0m \u001b[0mvalue\u001b[0m\u001b[0;34m)\u001b[0m\u001b[0;34m:\u001b[0m\u001b[0;34m\u001b[0m\u001b[0m\n",
      "\u001b[0;31mAttributeError\u001b[0m: 'DataFrame' object has no attribute 'keya'"
     ]
    }
   ],
   "source": [
    "summary_dt.keya"
   ]
  },
  {
   "cell_type": "code",
   "execution_count": null,
   "metadata": {
    "collapsed": true
   },
   "outputs": [],
   "source": []
  },
  {
   "cell_type": "code",
   "execution_count": null,
   "metadata": {
    "collapsed": true
   },
   "outputs": [],
   "source": []
  },
  {
   "cell_type": "code",
   "execution_count": null,
   "metadata": {
    "collapsed": true
   },
   "outputs": [],
   "source": []
  },
  {
   "cell_type": "code",
   "execution_count": null,
   "metadata": {
    "collapsed": true
   },
   "outputs": [],
   "source": []
  },
  {
   "cell_type": "code",
   "execution_count": null,
   "metadata": {
    "collapsed": true
   },
   "outputs": [],
   "source": [
    "pd.DataFrame."
   ]
  },
  {
   "cell_type": "code",
   "execution_count": 27,
   "metadata": {
    "collapsed": false
   },
   "outputs": [
    {
     "data": {
      "text/plain": [
       "digest\n",
       "IGHA1                                            (32411, 30)\n",
       "IGHA1/IGHA2                                        (416, 30)\n",
       "IGHA1/IGHA2/IGHD                                    (10, 30)\n",
       "IGHA1/IGHA2/IGHD/IGHG1                               (2, 30)\n",
       "IGHA1/IGHA2/IGHD/IGHG1/IGHG2/IGHG2                   (1, 30)\n",
       "IGHA1/IGHA2/IGHD/IGHG1/IGHG2/IGHG4/IGHM/IGHM         (2, 30)\n",
       "IGHA1/IGHA2/IGHD/IGHG1/IGHG2/IGHM                    (4, 30)\n",
       "IGHA1/IGHA2/IGHD/IGHG1/IGHG2/IGHM/IGHM               (1, 30)\n",
       "IGHA1/IGHA2/IGHD/IGHG1/IGHM                          (7, 30)\n",
       "IGHA1/IGHA2/IGHD/IGHG2                               (2, 30)\n",
       "IGHA1/IGHA2/IGHD/IGHG2/IGHM                          (1, 30)\n",
       "IGHA1/IGHA2/IGHD/IGHM                               (20, 30)\n",
       "IGHA1/IGHA2/IGHD/IGHM/IGHM                           (2, 30)\n",
       "IGHA1/IGHA2/IGHG1                                   (11, 30)\n",
       "IGHA1/IGHA2/IGHG1/IGHG1                              (1, 30)\n",
       "IGHA1/IGHA2/IGHG1/IGHG2                              (8, 30)\n",
       "IGHA1/IGHA2/IGHG1/IGHG2/IGHM                         (2, 30)\n",
       "IGHA1/IGHA2/IGHG1/IGHG3                              (1, 30)\n",
       "IGHA1/IGHA2/IGHG1/IGHM                              (10, 30)\n",
       "IGHA1/IGHA2/IGHG2                                   (11, 30)\n",
       "IGHA1/IGHA2/IGHG2/IGHG3                              (1, 30)\n",
       "IGHA1/IGHA2/IGHG2/IGHG3/IGHM                         (2, 30)\n",
       "IGHA1/IGHA2/IGHG2/IGHM                              (12, 30)\n",
       "IGHA1/IGHA2/IGHG2/IGHM/IGHM                          (1, 30)\n",
       "IGHA1/IGHA2/IGHG4/IGHM                               (1, 30)\n",
       "IGHA1/IGHA2/IGHM                                    (77, 30)\n",
       "IGHA1/IGHA2/IGHM/IGHM                                (1, 30)\n",
       "IGHA1/IGHD                                         (101, 30)\n",
       "IGHA1/IGHD/IGHG1                                     (2, 30)\n",
       "IGHA1/IGHD/IGHG1/IGHG2                               (2, 30)\n",
       "                                                    ...     \n",
       "IGHD/IGHG3                                           (2, 30)\n",
       "IGHD/IGHG3/IGHG4                                     (1, 30)\n",
       "IGHD/IGHG3/IGHM                                      (1, 30)\n",
       "IGHD/IGHM                                          (868, 30)\n",
       "IGHE                                                (28, 30)\n",
       "IGHG1                                             (8810, 30)\n",
       "IGHG1/IGHG1                                          (1, 30)\n",
       "IGHG1/IGHG2                                        (176, 30)\n",
       "IGHG1/IGHG2/IGHG3                                    (2, 30)\n",
       "IGHG1/IGHG2/IGHM                                    (25, 30)\n",
       "IGHG1/IGHG3                                          (3, 30)\n",
       "IGHG1/IGHG3/IGHG4                                    (1, 30)\n",
       "IGHG1/IGHG3/IGHM                                     (1, 30)\n",
       "IGHG1/IGHG4                                          (2, 30)\n",
       "IGHG1/IGHM                                         (122, 30)\n",
       "IGHG2                                             (6469, 30)\n",
       "IGHG2/IGHG2                                          (2, 30)\n",
       "IGHG2/IGHG3                                          (9, 30)\n",
       "IGHG2/IGHG4                                          (1, 30)\n",
       "IGHG2/IGHGP                                          (5, 30)\n",
       "IGHG2/IGHGP/IGHM                                     (2, 30)\n",
       "IGHG2/IGHM                                          (87, 30)\n",
       "IGHG3                                              (670, 30)\n",
       "IGHG3/IGHG4                                          (1, 30)\n",
       "IGHG3/IGHM                                           (8, 30)\n",
       "IGHG4                                              (212, 30)\n",
       "IGHG4/IGHM                                           (2, 30)\n",
       "IGHGP                                                (1, 30)\n",
       "IGHM                                            (107093, 30)\n",
       "IGHM/IGHM                                            (6, 30)\n",
       "dtype: object"
      ]
     },
     "execution_count": 27,
     "metadata": {},
     "output_type": "execute_result"
    }
   ],
   "source": [
    "summary_dt.groupby(\"digest\").apply(lambda x: x.shape)"
   ]
  },
  {
   "cell_type": "code",
   "execution_count": null,
   "metadata": {
    "collapsed": true
   },
   "outputs": [],
   "source": []
  },
  {
   "cell_type": "code",
   "execution_count": null,
   "metadata": {
    "collapsed": true
   },
   "outputs": [],
   "source": []
  },
  {
   "cell_type": "code",
   "execution_count": null,
   "metadata": {
    "collapsed": true
   },
   "outputs": [],
   "source": []
  },
  {
   "cell_type": "code",
   "execution_count": null,
   "metadata": {
    "collapsed": true
   },
   "outputs": [],
   "source": []
  },
  {
   "cell_type": "code",
   "execution_count": null,
   "metadata": {
    "collapsed": true
   },
   "outputs": [],
   "source": []
  }
 ],
 "metadata": {
  "anaconda-cloud": {},
  "kernelspec": {
   "display_name": "Python [conda env:py35]",
   "language": "python",
   "name": "conda-env-py35-py"
  },
  "language_info": {
   "codemirror_mode": {
    "name": "ipython",
    "version": 3
   },
   "file_extension": ".py",
   "mimetype": "text/x-python",
   "name": "python",
   "nbconvert_exporter": "python",
   "pygments_lexer": "ipython3",
   "version": "3.5.2"
  }
 },
 "nbformat": 4,
 "nbformat_minor": 2
}
